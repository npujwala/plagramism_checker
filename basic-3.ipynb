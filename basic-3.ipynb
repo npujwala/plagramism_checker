{
 "cells": [
  {
   "cell_type": "code",
   "execution_count": 1,
   "id": "f5058ce6",
   "metadata": {},
   "outputs": [],
   "source": [
    "import os\n",
    "from sklearn.feature_extraction.text import TfidfVectorizer\n",
    "from sklearn.metrics.pairwise import cosine_similarity"
   ]
  },
  {
   "cell_type": "code",
   "execution_count": 2,
   "id": "ee05fc33",
   "metadata": {},
   "outputs": [],
   "source": [
    "student_files = [doc for doc in os.listdir() if doc.endswith('.txt')]\n",
    "student_notes = [open(_file, encoding='utf-8').read()\n",
    "                 for _file in student_files]\n"
   ]
  },
  {
   "cell_type": "code",
   "execution_count": 3,
   "id": "307d32cb",
   "metadata": {},
   "outputs": [
    {
     "data": {
      "text/plain": [
       "['fatma.txt', 'john.txt', 'juma.txt', 'requirements.txt']"
      ]
     },
     "execution_count": 3,
     "metadata": {},
     "output_type": "execute_result"
    }
   ],
   "source": [
    "student_files"
   ]
  },
  {
   "cell_type": "code",
   "execution_count": 4,
   "id": "77316e2c",
   "metadata": {},
   "outputs": [
    {
     "data": {
      "text/plain": [
       "['Life is all about doing your best in trying to\\nfind what works out for you and taking most time in\\ntrying to pursue those skills ',\n",
       " 'Life is all about finding money and spending on luxury stuffs\\nCoz this life is kinda short , trust ',\n",
       " 'Life to me is about finding money and use it on things that makes you happy\\ncoz this life is kinda short ',\n",
       " 'scikit_learn==0.24.2\\n']"
      ]
     },
     "execution_count": 4,
     "metadata": {},
     "output_type": "execute_result"
    }
   ],
   "source": [
    "student_notes"
   ]
  },
  {
   "cell_type": "code",
   "execution_count": 6,
   "id": "829b541f",
   "metadata": {},
   "outputs": [],
   "source": [
    "def vectorize(Text): \n",
    "    return TfidfVectorizer().fit_transform(Text).toarray()\n",
    "def similarity(doc1, doc2): \n",
    "    return cosine_similarity([doc1, doc2])"
   ]
  },
  {
   "cell_type": "code",
   "execution_count": 7,
   "id": "e76c0a3b",
   "metadata": {},
   "outputs": [],
   "source": [
    "vectors = vectorize(student_notes)\n",
    "s_vectors = list(zip(student_files, vectors))\n",
    "plagiarism_results = set()"
   ]
  },
  {
   "cell_type": "code",
   "execution_count": 8,
   "id": "ae90f2c3",
   "metadata": {},
   "outputs": [
    {
     "data": {
      "text/plain": [
       "array([[0.        , 0.12202937, 0.15073054, 0.12202937, 0.19118258,\n",
       "        0.        , 0.19118258, 0.19118258, 0.        , 0.19118258,\n",
       "        0.        , 0.38236516, 0.12202937, 0.        , 0.        ,\n",
       "        0.12202937, 0.        , 0.        , 0.        , 0.        ,\n",
       "        0.19118258, 0.        , 0.19118258, 0.19118258, 0.        ,\n",
       "        0.        , 0.19118258, 0.        , 0.        , 0.19118258,\n",
       "        0.        , 0.        , 0.        , 0.19118258, 0.19118258,\n",
       "        0.30146109, 0.        , 0.38236516, 0.        , 0.19118258,\n",
       "        0.19118258, 0.15073054, 0.19118258],\n",
       "       [0.        , 0.17671088, 0.21827309, 0.17671088, 0.        ,\n",
       "        0.21827309, 0.        , 0.        , 0.21827309, 0.        ,\n",
       "        0.        , 0.        , 0.35342175, 0.        , 0.21827309,\n",
       "        0.35342175, 0.27685174, 0.        , 0.        , 0.21827309,\n",
       "        0.        , 0.21827309, 0.        , 0.        , 0.        ,\n",
       "        0.21827309, 0.        , 0.27685174, 0.27685174, 0.        ,\n",
       "        0.        , 0.        , 0.21827309, 0.        , 0.        ,\n",
       "        0.        , 0.27685174, 0.        , 0.        , 0.        ,\n",
       "        0.        , 0.        , 0.        ],\n",
       "       [0.        , 0.15633945, 0.        , 0.15633945, 0.        ,\n",
       "        0.19311033, 0.        , 0.        , 0.19311033, 0.        ,\n",
       "        0.24493596, 0.        , 0.3126789 , 0.24493596, 0.19311033,\n",
       "        0.3126789 , 0.        , 0.24493596, 0.24493596, 0.19311033,\n",
       "        0.        , 0.19311033, 0.        , 0.        , 0.        ,\n",
       "        0.19311033, 0.        , 0.        , 0.        , 0.        ,\n",
       "        0.24493596, 0.24493596, 0.19311033, 0.        , 0.        ,\n",
       "        0.19311033, 0.        , 0.        , 0.24493596, 0.        ,\n",
       "        0.        , 0.19311033, 0.        ],\n",
       "       [0.70710678, 0.        , 0.        , 0.        , 0.        ,\n",
       "        0.        , 0.        , 0.        , 0.        , 0.        ,\n",
       "        0.        , 0.        , 0.        , 0.        , 0.        ,\n",
       "        0.        , 0.        , 0.        , 0.        , 0.        ,\n",
       "        0.        , 0.        , 0.        , 0.        , 0.70710678,\n",
       "        0.        , 0.        , 0.        , 0.        , 0.        ,\n",
       "        0.        , 0.        , 0.        , 0.        , 0.        ,\n",
       "        0.        , 0.        , 0.        , 0.        , 0.        ,\n",
       "        0.        , 0.        , 0.        ]])"
      ]
     },
     "execution_count": 8,
     "metadata": {},
     "output_type": "execute_result"
    }
   ],
   "source": [
    "vectors"
   ]
  },
  {
   "cell_type": "code",
   "execution_count": 9,
   "id": "2a2a2a48",
   "metadata": {},
   "outputs": [
    {
     "data": {
      "text/plain": [
       "[('fatma.txt',\n",
       "  array([0.        , 0.12202937, 0.15073054, 0.12202937, 0.19118258,\n",
       "         0.        , 0.19118258, 0.19118258, 0.        , 0.19118258,\n",
       "         0.        , 0.38236516, 0.12202937, 0.        , 0.        ,\n",
       "         0.12202937, 0.        , 0.        , 0.        , 0.        ,\n",
       "         0.19118258, 0.        , 0.19118258, 0.19118258, 0.        ,\n",
       "         0.        , 0.19118258, 0.        , 0.        , 0.19118258,\n",
       "         0.        , 0.        , 0.        , 0.19118258, 0.19118258,\n",
       "         0.30146109, 0.        , 0.38236516, 0.        , 0.19118258,\n",
       "         0.19118258, 0.15073054, 0.19118258])),\n",
       " ('john.txt',\n",
       "  array([0.        , 0.17671088, 0.21827309, 0.17671088, 0.        ,\n",
       "         0.21827309, 0.        , 0.        , 0.21827309, 0.        ,\n",
       "         0.        , 0.        , 0.35342175, 0.        , 0.21827309,\n",
       "         0.35342175, 0.27685174, 0.        , 0.        , 0.21827309,\n",
       "         0.        , 0.21827309, 0.        , 0.        , 0.        ,\n",
       "         0.21827309, 0.        , 0.27685174, 0.27685174, 0.        ,\n",
       "         0.        , 0.        , 0.21827309, 0.        , 0.        ,\n",
       "         0.        , 0.27685174, 0.        , 0.        , 0.        ,\n",
       "         0.        , 0.        , 0.        ])),\n",
       " ('juma.txt',\n",
       "  array([0.        , 0.15633945, 0.        , 0.15633945, 0.        ,\n",
       "         0.19311033, 0.        , 0.        , 0.19311033, 0.        ,\n",
       "         0.24493596, 0.        , 0.3126789 , 0.24493596, 0.19311033,\n",
       "         0.3126789 , 0.        , 0.24493596, 0.24493596, 0.19311033,\n",
       "         0.        , 0.19311033, 0.        , 0.        , 0.        ,\n",
       "         0.19311033, 0.        , 0.        , 0.        , 0.        ,\n",
       "         0.24493596, 0.24493596, 0.19311033, 0.        , 0.        ,\n",
       "         0.19311033, 0.        , 0.        , 0.24493596, 0.        ,\n",
       "         0.        , 0.19311033, 0.        ])),\n",
       " ('requirements.txt',\n",
       "  array([0.70710678, 0.        , 0.        , 0.        , 0.        ,\n",
       "         0.        , 0.        , 0.        , 0.        , 0.        ,\n",
       "         0.        , 0.        , 0.        , 0.        , 0.        ,\n",
       "         0.        , 0.        , 0.        , 0.        , 0.        ,\n",
       "         0.        , 0.        , 0.        , 0.        , 0.70710678,\n",
       "         0.        , 0.        , 0.        , 0.        , 0.        ,\n",
       "         0.        , 0.        , 0.        , 0.        , 0.        ,\n",
       "         0.        , 0.        , 0.        , 0.        , 0.        ,\n",
       "         0.        , 0.        , 0.        ]))]"
      ]
     },
     "execution_count": 9,
     "metadata": {},
     "output_type": "execute_result"
    }
   ],
   "source": [
    "s_vectors"
   ]
  },
  {
   "cell_type": "code",
   "execution_count": 10,
   "id": "b8d017ef",
   "metadata": {},
   "outputs": [
    {
     "data": {
      "text/plain": [
       "set()"
      ]
     },
     "execution_count": 10,
     "metadata": {},
     "output_type": "execute_result"
    }
   ],
   "source": [
    "plagiarism_results"
   ]
  },
  {
   "cell_type": "code",
   "execution_count": 11,
   "id": "65c05834",
   "metadata": {},
   "outputs": [],
   "source": [
    "def check_plagiarism():\n",
    "    global s_vectors\n",
    "    for student_a, text_vector_a in s_vectors:\n",
    "        new_vectors = s_vectors.copy()\n",
    "        current_index = new_vectors.index((student_a, text_vector_a))\n",
    "        del new_vectors[current_index]\n",
    "        for student_b, text_vector_b in new_vectors:\n",
    "            sim_score = similarity(text_vector_a, text_vector_b)[0][1]\n",
    "            student_pair = sorted((student_a, student_b))\n",
    "            score = (student_pair[0], student_pair[1], sim_score)\n",
    "            plagiarism_results.add(score)\n",
    "    return plagiarism_results\n"
   ]
  },
  {
   "cell_type": "code",
   "execution_count": 12,
   "id": "ee9633e9",
   "metadata": {},
   "outputs": [
    {
     "name": "stdout",
     "output_type": "stream",
     "text": [
      "('fatma.txt', 'juma.txt', 0.20179089793739657)\n",
      "('fatma.txt', 'requirements.txt', 0.0)\n",
      "('juma.txt', 'requirements.txt', 0.0)\n",
      "('fatma.txt', 'john.txt', 0.16228391831223246)\n",
      "('john.txt', 'requirements.txt', 0.0)\n",
      "('john.txt', 'juma.txt', 0.5713243251172899)\n"
     ]
    }
   ],
   "source": [
    "for data in check_plagiarism():\n",
    "    print(data)"
   ]
  },
  {
   "cell_type": "code",
   "execution_count": null,
   "id": "e28a3fdc",
   "metadata": {},
   "outputs": [],
   "source": []
  }
 ],
 "metadata": {
  "kernelspec": {
   "display_name": "Python 3 (ipykernel)",
   "language": "python",
   "name": "python3"
  },
  "language_info": {
   "codemirror_mode": {
    "name": "ipython",
    "version": 3
   },
   "file_extension": ".py",
   "mimetype": "text/x-python",
   "name": "python",
   "nbconvert_exporter": "python",
   "pygments_lexer": "ipython3",
   "version": "3.11.5"
  }
 },
 "nbformat": 4,
 "nbformat_minor": 5
}
